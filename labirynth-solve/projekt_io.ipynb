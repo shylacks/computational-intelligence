{
 "cells": [
  {
   "cell_type": "code",
   "execution_count": 1,
   "metadata": {},
   "outputs": [],
   "source": [
    "import numpy as np\n",
    "import random\n",
    "import time\n",
    "import matplotlib.pyplot as plt\n",
    "from deap import base, creator, tools, algorithms\n",
    "\n",
    "labirynth = np.array([\n",
    "    ['b', 'b', 'b', 'b', 'b', 'b', 'b', 'b', 'b', 'b', 'b', 'b'],\n",
    "    ['b', ' ', ' ', ' ', 'b', ' ', ' ', ' ', 'b', ' ', ' ', 'b'],\n",
    "    ['b', 'b', 'b', ' ', ' ', ' ', 'b', ' ', 'b', 'b', ' ', 'b'],\n",
    "    ['b', ' ', ' ', ' ', 'b', ' ', 'b', ' ', ' ', ' ', ' ', 'b'],\n",
    "    ['b', ' ', 'b', ' ', 'b', 'b', ' ', ' ', 'b', 'b', ' ', 'b'],\n",
    "    ['b', ' ', ' ', 'b', 'b', ' ', ' ', ' ', 'b', ' ', ' ', 'b'],\n",
    "    ['b', ' ', ' ', ' ', ' ', ' ', 'b', ' ', ' ', ' ', 'b', 'b'],\n",
    "    ['b', ' ', 'b', ' ', ' ', 'b', 'b', ' ', 'b', ' ', ' ', 'b'],\n",
    "    ['b', ' ', 'b', 'b', 'b', ' ', ' ', ' ', 'b', 'b', ' ', 'b'],\n",
    "    ['b', ' ', 'b', ' ', 'b', 'b', ' ', 'b', ' ', 'b', ' ', 'b'],\n",
    "    ['b', ' ', 'b', ' ', ' ', ' ', ' ', ' ', ' ', ' ', ' ', 'b'],\n",
    "    ['b', 'b', 'b', 'b', 'b', 'b', 'b', 'b', 'b', 'b', 'b', 'b'],\n",
    "])"
   ]
  },
  {
   "cell_type": "code",
   "execution_count": 2,
   "metadata": {},
   "outputs": [],
   "source": [
    "creator.create(\"FitnessMin\", base.Fitness, weights=(-1.0,-1.0))\n",
    "creator.create(\"Individual\", list, fitness=creator.FitnessMin)\n",
    "\n",
    "toolbox = base.Toolbox()\n",
    "toolbox.register(\"attr_int\", random.randint, 0, 3)\n",
    "toolbox.register(\"individual\", tools.initRepeat, creator.Individual, toolbox.attr_int, n=40)\n",
    "toolbox.register(\"population\", tools.initRepeat, list, toolbox.individual)"
   ]
  },
  {
   "cell_type": "code",
   "execution_count": 3,
   "metadata": {},
   "outputs": [],
   "source": [
    "def fitness_1(individual):\n",
    "    x, y = 1, 1\n",
    "    end_x, end_y = 10, 10\n",
    "    visited = []\n",
    "    iters = 0\n",
    "    # 0 = left, 1 = up, 2 = right, 3 = down\n",
    "    dist = np.linalg.norm(np.array((10, 10))-np.array((y,x)))\n",
    "    score = 0\n",
    "    for i in range(0, len(individual)):\n",
    "        if x==10 and y==10:\n",
    "            return labirynth.shape[0]*labirynth.shape[1]*-1, iters\n",
    "        if individual[i] == 0:\n",
    "            if (labirynth[y][x-1]!='b') and ((y, x-1) not in visited):\n",
    "                visited.append((y,x))\n",
    "                iters += 1\n",
    "                x -= 1\n",
    "                if np.linalg.norm(np.array((10, 10))-np.array((y,x))) < dist:\n",
    "                    score-=1\n",
    "                else:\n",
    "                    score+=1\n",
    "                dist = np.linalg.norm(np.array((10, 10))-np.array((y,x)))  \n",
    "            else:\n",
    "                break\n",
    "        if individual[i] == 1:\n",
    "            if (labirynth[y-1][x]!='b') and ((y-1, x) not in visited):\n",
    "                visited.append((y,x))\n",
    "                iters += 1\n",
    "                y -= 1\n",
    "                if np.linalg.norm(np.array((10, 10))-np.array((y,x))) < dist:\n",
    "                    score-=1\n",
    "                else:\n",
    "                    score+=1\n",
    "                dist = np.linalg.norm(np.array((10, 10))-np.array((y,x)))\n",
    "            else:\n",
    "                break\n",
    "        if individual[i] == 2:\n",
    "            if (labirynth[y][x+1]!='b') and ((y, x+1) not in visited):\n",
    "                iters += 1\n",
    "                visited.append((y,x))\n",
    "                x += 1\n",
    "                if np.linalg.norm(np.array((10, 10))-np.array((y,x))) < dist:\n",
    "                    score-=1\n",
    "                else:\n",
    "                    score+=1\n",
    "                dist = np.linalg.norm(np.array((10, 10))-np.array((y,x)))\n",
    "            else:\n",
    "                break\n",
    "        if individual[i] == 3:\n",
    "            if (labirynth[y+1][x]!='b') and ((y+1, x) not in visited):\n",
    "                iters += 1\n",
    "                visited.append((y,x))\n",
    "                y += 1\n",
    "                if np.linalg.norm(np.array((10, 10))-np.array((y,x))) < dist:\n",
    "                    score-=1\n",
    "                else:\n",
    "                    score+=1\n",
    "                dist = np.linalg.norm(np.array((10, 10))-np.array((y,x))) \n",
    "            else:\n",
    "                break\n",
    "        \n",
    "    return score, iters"
   ]
  },
  {
   "cell_type": "code",
   "execution_count": 4,
   "metadata": {},
   "outputs": [
    {
     "name": "stdout",
     "output_type": "stream",
     "text": [
      "(-144, 20) (-13, 15)\n"
     ]
    }
   ],
   "source": [
    "chrm_1=[2, 2, 3, 2, 2, 1, 2, 2, 3, 3, 3, 3, 3, 2, 2, 3, 2, 3, 3, 3, 1, 3, 2, 0, 0, 0, 3, 1, 1, 3, 2, 3, 3, 1, 2, 2, 3, 1, 2, 1] \n",
    "v1 = fitness_1(chrm_1)\n",
    "chrm_2=[2, 2, 3, 2, 2, 1, 2, 2, 3, 3, 3, 3, 3, 3, 3, 2, 2, 1, 0, 2, 1, 1, 2, 3, 2, 0, 0, 3, 3, 3, 2, 2, 2, 0, 2, 1, 1, 1, 2, 1]\n",
    "v2 = fitness_1(chrm_2)\n",
    "print(v1,v2)"
   ]
  },
  {
   "cell_type": "code",
   "execution_count": 5,
   "metadata": {},
   "outputs": [],
   "source": [
    "def fitness_2(individual):\n",
    "    x, y = 1, 1\n",
    "    end_x, end_y = 10, 10\n",
    "    visited = []\n",
    "    iters = 0\n",
    "    # 0 = left, 1 = up, 2 = right, 3 = down\n",
    "    score = 0\n",
    "    boost_0, boost_1, boost_2, boost_3 = 0, 0, 0, 0\n",
    "    if x < end_x:\n",
    "        boost_2 = 1\n",
    "    else:\n",
    "        boost_0 = 1\n",
    "    if y < end_y:\n",
    "        boost_3 = 1\n",
    "    else:\n",
    "        boost_1 = 1\n",
    "        \n",
    "    for i in range(0, len(individual)):\n",
    "        if x==10 and y==10:\n",
    "            return labirynth.shape[0]*labirynth.shape[1]*-1, iters\n",
    "        if individual[i] == 0:\n",
    "            if (labirynth[y][x-1]!='b') and ((y, x-1) not in visited):\n",
    "                score-=1\n",
    "                score-=boost_0\n",
    "                visited.append((y,x))\n",
    "                iters += 1\n",
    "                x -= 1\n",
    "            else:\n",
    "                break\n",
    "        if individual[i] == 1:\n",
    "            if (labirynth[y-1][x]!='b') and ((y-1, x) not in visited):\n",
    "                visited.append((y,x))\n",
    "                score -= 1\n",
    "                score-=boost_1\n",
    "                iters += 1\n",
    "                y -= 1\n",
    "            else:\n",
    "                break\n",
    "        if individual[i] == 2:\n",
    "            if (labirynth[y][x+1]!='b') and ((y, x+1) not in visited):\n",
    "                score -= 1\n",
    "                score-=boost_2\n",
    "                iters += 1\n",
    "                visited.append((y,x))\n",
    "                x += 1\n",
    "            else:\n",
    "                break\n",
    "        if individual[i] == 3:\n",
    "            if (labirynth[y+1][x]!='b') and ((y+1, x) not in visited):\n",
    "                score -= 1\n",
    "                score-=boost_3\n",
    "                iters += 1\n",
    "                visited.append((y,x))\n",
    "                y += 1\n",
    "            else:\n",
    "                break\n",
    "        \n",
    "    return score, iters"
   ]
  },
  {
   "cell_type": "code",
   "execution_count": 6,
   "metadata": {},
   "outputs": [
    {
     "name": "stdout",
     "output_type": "stream",
     "text": [
      "(-144, 20) (-29, 15)\n"
     ]
    }
   ],
   "source": [
    "chrm_1=[2, 2, 3, 2, 2, 1, 2, 2, 3, 3, 3, 3, 3, 2, 2, 3, 2, 3, 3, 3, 1, 3, 2, 0, 0, 0, 3, 1, 1, 3, 2, 3, 3, 1, 2, 2, 3, 1, 2, 1] \n",
    "v1 = fitness_2(chrm_1)\n",
    "chrm_2=[2, 2, 3, 2, 2, 1, 2, 2, 3, 3, 3, 3, 3, 3, 3, 2, 2, 1, 0, 2, 1, 1, 2, 3, 2, 0, 0, 3, 3, 3, 2, 2, 2, 0, 2, 1, 1, 1, 2, 1]\n",
    "v2 = fitness_2(chrm_2)\n",
    "print(v1,v2)"
   ]
  },
  {
   "cell_type": "code",
   "execution_count": 7,
   "metadata": {
    "scrolled": true
   },
   "outputs": [],
   "source": [
    "def fitness_1f(pop, ngen):\n",
    "    start = time.time()\n",
    "\n",
    "    pop = toolbox.population(n=pop)\n",
    "    hof = tools.HallOfFame(5)\n",
    "    stats = tools.Statistics(lambda ind: ind.fitness.values)\n",
    "    stats.register(\"avg\", np.mean)\n",
    "    stats.register(\"min\", np.min)\n",
    "    stats.register(\"max\", np.max)\n",
    "    \n",
    "    pop, logbook = algorithms.eaSimple(pop, toolbox, cxpb=0.5, mutpb=0.2, ngen=ngen, stats=stats, halloffame=hof, verbose=False)\n",
    "    end = time.time()\n",
    "    print(\"#######################################\")\n",
    "    print(\"Fitness 1\")\n",
    "    print(\"time: \", end - start)\n",
    "    return pop, logbook, hof\n",
    "\n",
    "def fitness_2f(pop, ngen):\n",
    "    start = time.time()\n",
    "    \n",
    "    pop = toolbox.population(n=pop)\n",
    "    hof = tools.HallOfFame(1)\n",
    "    stats = tools.Statistics(lambda ind: ind.fitness.values)\n",
    "    stats.register(\"avg\", np.mean)\n",
    "    stats.register(\"min\", np.min)\n",
    "    stats.register(\"max\", np.max)\n",
    "    \n",
    "    pop, logbook = algorithms.eaSimple(pop, toolbox, cxpb=0.5, mutpb=0.2, ngen=ngen, stats=stats, halloffame=hof, verbose=False)\n",
    "    end = time.time()\n",
    "    print(\"time: \", end - start)\n",
    "    return pop, logbook, hof\n"
   ]
  },
  {
   "cell_type": "code",
   "execution_count": 8,
   "metadata": {
    "scrolled": true
   },
   "outputs": [
    {
     "name": "stdout",
     "output_type": "stream",
     "text": [
      "#######################################\n",
      "Fitness 1\n",
      "time:  22.933037519454956\n",
      "Fitness 1\n",
      "Best individual is:\n",
      "[2, 2, 3, 2, 2, 1, 2, 2, 3, 3, 3, 0, 3, 2, 3, 2, 2, 3, 2, 3, 3, 3, 0, 3, 1, 0, 3, 3, 1, 0, 3, 1, 1, 3, 2, 0, 1, 2, 2, 0] \n",
      "with  fitness:\n",
      "(-144.0, 22.0)\n",
      "#######################################\n",
      "Fitness 2\n",
      "time:  8.52569580078125\n",
      "Best individual is:\n",
      "[2, 2, 3, 3, 0, 0, 3, 3, 3, 2, 2, 3, 2, 1, 2, 1, 2, 1, 2, 3, 3, 3, 3, 0, 3, 3, 2, 2, 2, 2, 1, 1, 3, 0, 2, 0, 0, 3, 2, 1] \n",
      "with  fitness:\n",
      "(-144.0, 30.0)\n",
      "#######################################\n"
     ]
    },
    {
     "data": {
      "image/png": "[encoded data removed]",
      "text/plain": [
       "<Figure size 432x288 with 2 Axes>"
      ]
     },
     "metadata": {
      "needs_background": "light"
     },
     "output_type": "display_data"
    }
   ],
   "source": [
    "n_pop, n_gen = 200, 500\n",
    "\n",
    "toolbox.register(\"evaluate\", fitness_1)\n",
    "toolbox.register(\"mate\", tools.cxTwoPoint)\n",
    "toolbox.register(\"mutate\", tools.mutUniformInt, low=0, up=3, indpb=0.1)\n",
    "toolbox.register(\"select\", tools.selTournament, tournsize=5)\n",
    "\n",
    "pop, log, hof = fitness_1f(n_pop, n_gen)\n",
    "\n",
    "print(f\"Best individual is:\\n{hof[0]} \\nwith  fitness:\\n{hof[0].fitness}\")\n",
    "gen, avg, min_, max_ = log.select(\"gen\", \"avg\", \"min\", \"max\")\n",
    "\n",
    "plt.subplot(2, 1, 1)\n",
    "plt.plot(gen, avg, label=\"average\")\n",
    "plt.plot(gen, min_, label=\"minimum\")\n",
    "plt.plot(gen, max_, label=\"maximum\")\n",
    "plt.xlabel(\"Generation\")\n",
    "plt.ylabel(\"Fitness 1\")\n",
    "plt.legend(bbox_to_anchor=(1.05, 1), loc='upper left')\n",
    "\n",
    "toolbox.register(\"evaluate\", fitness_2)\n",
    "toolbox.register(\"mate\", tools.cxTwoPoint)\n",
    "toolbox.register(\"mutate\", tools.mutUniformInt, low=0, up=3, indpb=0.1)\n",
    "toolbox.register(\"select\", tools.selTournament, tournsize=5)\n",
    "\n",
    "print(\"#######################################\\nFitness 2\")\n",
    "pop, log, hof = fitness_2f(n_pop, n_gen)\n",
    "print(f\"Best individual is:\\n{hof[0]} \\nwith  fitness:\\n{hof[0].fitness}\")\n",
    "print(\"#######################################\")\n",
    "gen, avg, min_, max_ = log.select(\"gen\", \"avg\", \"min\", \"max\")\n",
    "plt.subplot(2, 1, 2)\n",
    "plt.plot(gen, avg, label=\"average\")\n",
    "plt.plot(gen, min_, label=\"minimum\")\n",
    "plt.plot(gen, max_, label=\"maximum\")\n",
    "plt.xlabel(\"Generation\")\n",
    "plt.ylabel(\"Fitness 2\")\n",
    "plt.show()"
   ]
  },
  {
   "cell_type": "code",
   "execution_count": 9,
   "metadata": {},
   "outputs": [],
   "source": [
    "\n",
    "g = np.ones((12, 12), dtype=np.int8)\n",
    "g[1] = np.array(['1', '0', '0', '0', '1', '0', '0', '0', '1', '0', '0', '1']).astype(int)\n",
    "g[2] = np.array(['1', '1', '1', '0', '0', '0', '1', '0', '1', '1', '0', '1']).astype(int)\n",
    "g[3] = np.array(['1', '0', '0', '0', '1', '0', '1', '0', '0', '0', '0', '1']).astype(int)\n",
    "g[4] = np.array(['1', '0', '1', '0', '1', '1', '0', '0', '1', '1', '0', '1']).astype(int)\n",
    "g[5] = np.array(['1', '0', '0', '1', '1', '0', '0', '0', '1', '0', '0', '1']).astype(int)\n",
    "g[6] = np.array(['1', '0', '0', '0', '0', '0', '1', '0', '0', '0', '1', '1']).astype(int)\n",
    "g[7] = np.array(['1', '0', '1', '0', '0', '1', '1', '0', '1', '0', '0', '1']).astype(int)\n",
    "g[8] = np.array(['1', '0', '1', '1', '1', '0', '0', '0', '1', '1', '0', '1']).astype(int)\n",
    "g[9] = np.array(['1', '0', '1', '0', '1', '1', '0', '1', '0', '1', '0', '1']).astype(int)\n",
    "g[10] = np.array(['1', '0 ', '1', '0', '0', '0', '0', '0', '0', '0', '0', '1']).astype(int)\n"
   ]
  },
  {
   "cell_type": "code",
   "execution_count": null,
   "metadata": {},
   "outputs": [],
   "source": [
    "m = Maze()\n",
    "m.grid = g\n",
    "m.solver = BacktrackingSolver()\n",
    "m.start = (1, 1)\n",
    "m.end = (10, 10)\n",
    "start = time.time()\n",
    "m.solve()\n",
    "end = time.time()\n",
    "print(end-start)"
   ]
  },
  {
   "cell_type": "code",
   "execution_count": null,
   "metadata": {},
   "outputs": [],
   "source": []
  },
  {
   "cell_type": "code",
   "execution_count": null,
   "metadata": {},
   "outputs": [],
   "source": []
  }
 ],
 "metadata": {
  "kernelspec": {
   "display_name": "Python 3",
   "language": "python",
   "name": "python3"
  },
  "language_info": {
   "codemirror_mode": {
    "name": "ipython",
    "version": 3
   },
   "file_extension": ".py",
   "mimetype": "text/x-python",
   "name": "python",
   "nbconvert_exporter": "python",
   "pygments_lexer": "ipython3",
   "version": "3.7.4"
  }
 },
 "nbformat": 4,
 "nbformat_minor": 2
}
